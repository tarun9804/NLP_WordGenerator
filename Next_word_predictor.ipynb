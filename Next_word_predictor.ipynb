{
 "cells": [
  {
   "cell_type": "code",
   "execution_count": 1,
   "id": "7bb31a77-15e0-4107-8061-cad07ff022df",
   "metadata": {},
   "outputs": [],
   "source": [
    "faqs = \"\"\"About the Program\n",
    "What is the course fee for  Data Science Mentorship Program (DSMP 2023)\n",
    "The course follows a monthly subscription model where you have to make monthly payments of Rs 799/month.\n",
    "What is the total duration of the course?\n",
    "The total duration of the course is 7 months. So the total course fee becomes 799*7 = Rs 5600(approx.)\n",
    "What is the syllabus of the mentorship program?\n",
    "We will be covering the following modules:\n",
    "Python Fundamentals\n",
    "Python libraries for Data Science\n",
    "Data Analysis\n",
    "SQL for Data Science\n",
    "Maths for Machine Learning\n",
    "ML Algorithms\n",
    "Practical ML\n",
    "MLOPs\n",
    "Case studies\n",
    "You can check the detailed syllabus here - https://learnwith.campusx.in/courses/CampusX-Data-Science-Mentorship-Program-637339afe4b0615a1bbed390\n",
    "Will Deep Learning and NLP be a part of this program?\n",
    "No, NLP and Deep Learning both are not a part of this program’s curriculum.\n",
    "What if I miss a live session? Will I get a recording of the session?\n",
    "Yes all our sessions are recorded, so even if you miss a session you can go back and watch the recording.\n",
    "Where can I find the class schedule?\n",
    "Checkout this google sheet to see month by month time table of the course - https://docs.google.com/spreadsheets/d/16OoTax_A6ORAeCg4emgexhqqPv3noQPYKU7RJ6ArOzk/edit?usp=sharing.\n",
    "What is the time duration of all the live sessions?\n",
    "Roughly, all the sessions last 2 hours.\n",
    "What is the language spoken by the instructor during the sessions?\n",
    "Hinglish\n",
    "How will I be informed about the upcoming class?\n",
    "You will get a mail from our side before every paid session once you become a paid user.\n",
    "Can I do this course if I am from a non-tech background?\n",
    "Yes, absolutely.\n",
    "I am late, can I join the program in the middle?\n",
    "Absolutely, you can join the program anytime.\n",
    "If I join/pay in the middle, will I be able to see all the past lectures?\n",
    "Yes, once you make the payment you will be able to see all the past content in your dashboard.\n",
    "Where do I have to submit the task?\n",
    "You don’t have to submit the task. We will provide you with the solutions, you have to self evaluate the task yourself.\n",
    "Will we do case studies in the program?\n",
    "Yes.\n",
    "Where can we contact you?\n",
    "You can mail us at nitish.campusx@gmail.com\n",
    "Payment/Registration related questions\n",
    "Where do we have to make our payments? Your YouTube channel or website?\n",
    "You have to make all your monthly payments on our website. Here is the link for our website - https://learnwith.campusx.in/\n",
    "Can we pay the entire amount of Rs 5600 all at once?\n",
    "Unfortunately no, the program follows a monthly subscription model.\n",
    "What is the validity of monthly subscription? Suppose if I pay on 15th Jan, then do I have to pay again on 1st Feb or 15th Feb\n",
    "15th Feb. The validity period is 30 days from the day you make the payment. So essentially you can join anytime you don’t have to wait for a month to end.\n",
    "What if I don’t like the course after making the payment. What is the refund policy?\n",
    "You get a 7 days refund period from the day you have made the payment.\n",
    "I am living outside India and I am not able to make the payment on the website, what should I do?\n",
    "You have to contact us by sending a mail at nitish.campusx@gmail.com\n",
    "Post registration queries\n",
    "Till when can I view the paid videos on the website?\n",
    "This one is tricky, so read carefully. You can watch the videos till your subscription is valid. Suppose you have purchased subscription on 21st Jan, you will be able to watch all the past paid sessions in the period of 21st Jan to 20th Feb. But after 21st Feb you will have to purchase the subscription again.\n",
    "But once the course is over and you have paid us Rs 5600(or 7 installments of Rs 799) you will be able to watch the paid sessions till Aug 2024.\n",
    "Why lifetime validity is not provided?\n",
    "Because of the low course fee.\n",
    "Where can I reach out in case of a doubt after the session?\n",
    "You will have to fill a google form provided in your dashboard and our team will contact you for a 1 on 1 doubt clearance session\n",
    "If I join the program late, can I still ask past week doubts?\n",
    "Yes, just select past week doubt in the doubt clearance google form.\n",
    "I am living outside India and I am not able to make the payment on the website, what should I do?\n",
    "You have to contact us by sending a mail at nitish.campusx@gmai.com\n",
    "Certificate and Placement Assistance related queries\n",
    "What is the criteria to get the certificate?\n",
    "There are 2 criterias:\n",
    "You have to pay the entire fee of Rs 5600\n",
    "You have to attempt all the course assessments.\n",
    "I am joining late. How can I pay payment of the earlier months?\n",
    "You will get a link to pay fee of earlier months in your dashboard once you pay for the current month.\n",
    "I have read that Placement assistance is a part of this program. What comes under Placement assistance?\n",
    "This is to clarify that Placement assistance does not mean Placement guarantee. So we dont guarantee you any jobs or for that matter even interview calls. So if you are planning to join this course just for placements, I am afraid you will be disappointed. Here is what comes under placement assistance\n",
    "Portfolio Building sessions\n",
    "Soft skill sessions\n",
    "Sessions with industry mentors\n",
    "Discussion on Job hunting strategies\n",
    "\"\"\""
   ]
  },
  {
   "cell_type": "code",
   "execution_count": 3,
   "id": "f8110b9f-f5d5-4a80-9ead-383ef51925cb",
   "metadata": {},
   "outputs": [
    {
     "name": "stdout",
     "output_type": "stream",
     "text": [
      "About the Program\n",
      "What is the course fee for  Data Science Mentorship Program (DSMP 2023)\n",
      "The course follows a monthly subscription model where you have to make monthly payments of Rs 799/month.\n",
      "What is the total duration of the course?\n",
      "The total duration of the course is 7 months. So the total course fee becomes 799*7 = Rs 5600(approx.)\n",
      "What is the syllabus of the mentorship program?\n",
      "We will be covering the following modules:\n",
      "Python Fundamentals\n",
      "Python libraries for Data Science\n",
      "Data Analysis\n",
      "SQL for Data Science\n",
      "Maths for Machine Learning\n",
      "ML Algorithms\n",
      "Practical ML\n",
      "MLOPs\n",
      "Case studies\n",
      "You can check the detailed syllabus here - https://learnwith.campusx.in/courses/CampusX-Data-Science-Mentorship-Program-637339afe4b0615a1bbed390\n",
      "Will Deep Learning and NLP be a part of this program?\n",
      "No, NLP and Deep Learning both are not a part of this program’s curriculum.\n",
      "What if I miss a live session? Will I get a recording of the session?\n",
      "Yes all our sessions are recorded, so even if you miss a session you can go back and watch the recording.\n",
      "Where can I find the class schedule?\n",
      "Checkout this google sheet to see month by month time table of the course - https://docs.google.com/spreadsheets/d/16OoTax_A6ORAeCg4emgexhqqPv3noQPYKU7RJ6ArOzk/edit?usp=sharing.\n",
      "What is the time duration of all the live sessions?\n",
      "Roughly, all the sessions last 2 hours.\n",
      "What is the language spoken by the instructor during the sessions?\n",
      "Hinglish\n",
      "How will I be informed about the upcoming class?\n",
      "You will get a mail from our side before every paid session once you become a paid user.\n",
      "Can I do this course if I am from a non-tech background?\n",
      "Yes, absolutely.\n",
      "I am late, can I join the program in the middle?\n",
      "Absolutely, you can join the program anytime.\n",
      "If I join/pay in the middle, will I be able to see all the past lectures?\n",
      "Yes, once you make the payment you will be able to see all the past content in your dashboard.\n",
      "Where do I have to submit the task?\n",
      "You don’t have to submit the task. We will provide you with the solutions, you have to self evaluate the task yourself.\n",
      "Will we do case studies in the program?\n",
      "Yes.\n",
      "Where can we contact you?\n",
      "You can mail us at nitish.campusx@gmail.com\n",
      "Payment/Registration related questions\n",
      "Where do we have to make our payments? Your YouTube channel or website?\n",
      "You have to make all your monthly payments on our website. Here is the link for our website - https://learnwith.campusx.in/\n",
      "Can we pay the entire amount of Rs 5600 all at once?\n",
      "Unfortunately no, the program follows a monthly subscription model.\n",
      "What is the validity of monthly subscription? Suppose if I pay on 15th Jan, then do I have to pay again on 1st Feb or 15th Feb\n",
      "15th Feb. The validity period is 30 days from the day you make the payment. So essentially you can join anytime you don’t have to wait for a month to end.\n",
      "What if I don’t like the course after making the payment. What is the refund policy?\n",
      "You get a 7 days refund period from the day you have made the payment.\n",
      "I am living outside India and I am not able to make the payment on the website, what should I do?\n",
      "You have to contact us by sending a mail at nitish.campusx@gmail.com\n",
      "Post registration queries\n",
      "Till when can I view the paid videos on the website?\n",
      "This one is tricky, so read carefully. You can watch the videos till your subscription is valid. Suppose you have purchased subscription on 21st Jan, you will be able to watch all the past paid sessions in the period of 21st Jan to 20th Feb. But after 21st Feb you will have to purchase the subscription again.\n",
      "But once the course is over and you have paid us Rs 5600(or 7 installments of Rs 799) you will be able to watch the paid sessions till Aug 2024.\n",
      "Why lifetime validity is not provided?\n",
      "Because of the low course fee.\n",
      "Where can I reach out in case of a doubt after the session?\n",
      "You will have to fill a google form provided in your dashboard and our team will contact you for a 1 on 1 doubt clearance session\n",
      "If I join the program late, can I still ask past week doubts?\n",
      "Yes, just select past week doubt in the doubt clearance google form.\n",
      "I am living outside India and I am not able to make the payment on the website, what should I do?\n",
      "You have to contact us by sending a mail at nitish.campusx@gmai.com\n",
      "Certificate and Placement Assistance related queries\n",
      "What is the criteria to get the certificate?\n",
      "There are 2 criterias:\n",
      "You have to pay the entire fee of Rs 5600\n",
      "You have to attempt all the course assessments.\n",
      "I am joining late. How can I pay payment of the earlier months?\n",
      "You will get a link to pay fee of earlier months in your dashboard once you pay for the current month.\n",
      "I have read that Placement assistance is a part of this program. What comes under Placement assistance?\n",
      "This is to clarify that Placement assistance does not mean Placement guarantee. So we dont guarantee you any jobs or for that matter even interview calls. So if you are planning to join this course just for placements, I am afraid you will be disappointed. Here is what comes under placement assistance\n",
      "Portfolio Building sessions\n",
      "Soft skill sessions\n",
      "Sessions with industry mentors\n",
      "Discussion on Job hunting strategies\n",
      "\n"
     ]
    }
   ],
   "source": [
    "for i in faqs.split('\\n'):\n",
    "    print(i)"
   ]
  },
  {
   "cell_type": "code",
   "execution_count": 4,
   "id": "a83246df-4097-41cf-85de-4bcfc20ec477",
   "metadata": {},
   "outputs": [
    {
     "name": "stdout",
     "output_type": "stream",
     "text": [
      "WARNING:tensorflow:From C:\\Users\\Asus\\anaconda3\\Lib\\site-packages\\keras\\src\\losses.py:2976: The name tf.losses.sparse_softmax_cross_entropy is deprecated. Please use tf.compat.v1.losses.sparse_softmax_cross_entropy instead.\n",
      "\n"
     ]
    }
   ],
   "source": [
    "import tensorflow as tf"
   ]
  },
  {
   "cell_type": "code",
   "execution_count": 17,
   "id": "9426c448-8dc7-4ee6-a5f6-4348ca6ffe45",
   "metadata": {},
   "outputs": [],
   "source": [
    "from tensorflow.keras.preprocessing.text import Tokenizer\n",
    "from tensorflow.keras.preprocessing.sequence import pad_sequences"
   ]
  },
  {
   "cell_type": "code",
   "execution_count": 6,
   "id": "b72f0f6f-2599-4a78-b4f8-c762a6cbbd25",
   "metadata": {},
   "outputs": [],
   "source": [
    "token=Tokenizer()"
   ]
  },
  {
   "cell_type": "code",
   "execution_count": 10,
   "id": "1ddc8d56-d9a2-4e1b-a48b-4a16e723c33f",
   "metadata": {},
   "outputs": [],
   "source": [
    "token.fit_on_texts([faqs])"
   ]
  },
  {
   "cell_type": "code",
   "execution_count": 15,
   "id": "cc6dfc23-63aa-4ad9-8c3f-3015cc97c7dc",
   "metadata": {},
   "outputs": [],
   "source": [
    "input_seq=[]\n",
    "for i in faqs.split('\\n'):\n",
    "    seq=token.texts_to_sequences([i])[0]\n",
    "    for j in range(1,len(seq)):\n",
    "        input_seq.append(seq[:j+1])\n"
   ]
  },
  {
   "cell_type": "code",
   "execution_count": 21,
   "id": "8999b637-d784-423c-bd96-e2f54991dbd3",
   "metadata": {},
   "outputs": [],
   "source": [
    "mx_len=max([len(x) for x in input_seq])"
   ]
  },
  {
   "cell_type": "code",
   "execution_count": 22,
   "id": "d2e66c9d-29b1-4ee8-a480-3650aa025037",
   "metadata": {},
   "outputs": [],
   "source": [
    "padded_seq=pad_sequences(input_seq,maxlen=mx_len)"
   ]
  },
  {
   "cell_type": "code",
   "execution_count": 23,
   "id": "5375fe77-25f7-400d-953e-4b12f5977a59",
   "metadata": {},
   "outputs": [
    {
     "data": {
      "text/plain": [
       "array([[  0,   0,   0, ...,   0, 125,  20],\n",
       "       [  0,   0,   0, ..., 125,  20,  38],\n",
       "       [  0,   0,   0, ...,   0,  34,  27],\n",
       "       ...,\n",
       "       [  0,   0,   0, ..., 309,  45, 310],\n",
       "       [  0,   0,   0, ...,  45, 310, 311],\n",
       "       [  0,   0,   0, ..., 310, 311, 312]])"
      ]
     },
     "execution_count": 23,
     "metadata": {},
     "output_type": "execute_result"
    }
   ],
   "source": [
    "padded_seq"
   ]
  },
  {
   "cell_type": "code",
   "execution_count": 24,
   "id": "7b82bbfb-8b1f-44c4-ae22-0d3f8c8d0f13",
   "metadata": {},
   "outputs": [],
   "source": [
    "x=padded_seq[:,:-1]\n",
    "y=padded_seq[:,-1]"
   ]
  },
  {
   "cell_type": "code",
   "execution_count": 27,
   "id": "fd24bffa-b191-4017-9906-f16c4054b4f9",
   "metadata": {},
   "outputs": [],
   "source": [
    "from tensorflow.keras.utils import to_categorical"
   ]
  },
  {
   "cell_type": "code",
   "execution_count": 31,
   "id": "5e129cf8-197f-4c19-8740-a25a2d8c5d6b",
   "metadata": {},
   "outputs": [],
   "source": [
    "w_counts=len(token.word_index)"
   ]
  },
  {
   "cell_type": "code",
   "execution_count": 33,
   "id": "39ffd71a-ad91-42de-9b05-ccd057e50b92",
   "metadata": {},
   "outputs": [],
   "source": [
    "y=to_categorical(y,num_classes=w_counts+1)"
   ]
  },
  {
   "cell_type": "code",
   "execution_count": 34,
   "id": "0d0d1702-c55d-4c66-bae7-3515ed0a0cd8",
   "metadata": {},
   "outputs": [
    {
     "data": {
      "text/plain": [
       "(863, 313)"
      ]
     },
     "execution_count": 34,
     "metadata": {},
     "output_type": "execute_result"
    }
   ],
   "source": [
    "y.shape"
   ]
  },
  {
   "cell_type": "code",
   "execution_count": 35,
   "id": "c771de51-f3de-4805-a484-eede09cabfe6",
   "metadata": {},
   "outputs": [],
   "source": [
    "from tensorflow.keras.layers import LSTM,Embedding,Dense"
   ]
  },
  {
   "cell_type": "code",
   "execution_count": 38,
   "id": "82e91754-cf4e-462d-8632-a817579d555c",
   "metadata": {},
   "outputs": [
    {
     "name": "stdout",
     "output_type": "stream",
     "text": [
      "WARNING:tensorflow:From C:\\Users\\Asus\\anaconda3\\Lib\\site-packages\\keras\\src\\backend.py:873: The name tf.get_default_graph is deprecated. Please use tf.compat.v1.get_default_graph instead.\n",
      "\n"
     ]
    }
   ],
   "source": [
    "model=tf.keras.Sequential()\n",
    "model.add(Embedding(w_counts+1,100,input_length=56))\n",
    "model.add(LSTM(150))\n",
    "model.add(Dense(w_counts+1,activation='softmax'))"
   ]
  },
  {
   "cell_type": "code",
   "execution_count": 40,
   "id": "f8588d1c-489b-4f9d-addf-1bbb1f5bdea0",
   "metadata": {},
   "outputs": [
    {
     "name": "stdout",
     "output_type": "stream",
     "text": [
      "WARNING:tensorflow:From C:\\Users\\Asus\\anaconda3\\Lib\\site-packages\\keras\\src\\optimizers\\__init__.py:309: The name tf.train.Optimizer is deprecated. Please use tf.compat.v1.train.Optimizer instead.\n",
      "\n"
     ]
    }
   ],
   "source": [
    "model.compile(loss=tf.keras.losses.categorical_crossentropy,\n",
    "             optimizer='Adam',\n",
    "             metrics=['accuracy'])"
   ]
  },
  {
   "cell_type": "code",
   "execution_count": 41,
   "id": "8a51f97f-c0a1-47e3-ad52-bc58305390d4",
   "metadata": {},
   "outputs": [
    {
     "name": "stdout",
     "output_type": "stream",
     "text": [
      "Epoch 1/100\n",
      "WARNING:tensorflow:From C:\\Users\\Asus\\anaconda3\\Lib\\site-packages\\keras\\src\\utils\\tf_utils.py:492: The name tf.ragged.RaggedTensorValue is deprecated. Please use tf.compat.v1.ragged.RaggedTensorValue instead.\n",
      "\n",
      "WARNING:tensorflow:From C:\\Users\\Asus\\anaconda3\\Lib\\site-packages\\keras\\src\\engine\\base_layer_utils.py:384: The name tf.executing_eagerly_outside_functions is deprecated. Please use tf.compat.v1.executing_eagerly_outside_functions instead.\n",
      "\n",
      "27/27 [==============================] - 4s 31ms/step - loss: 5.5347 - accuracy: 0.0637\n",
      "Epoch 2/100\n",
      "27/27 [==============================] - 1s 31ms/step - loss: 5.1204 - accuracy: 0.0776\n",
      "Epoch 3/100\n",
      "27/27 [==============================] - 1s 31ms/step - loss: 5.0240 - accuracy: 0.0776\n",
      "Epoch 4/100\n",
      "27/27 [==============================] - 1s 31ms/step - loss: 4.9958 - accuracy: 0.0776\n",
      "Epoch 5/100\n",
      "27/27 [==============================] - 1s 32ms/step - loss: 4.9556 - accuracy: 0.0776\n",
      "Epoch 6/100\n",
      "27/27 [==============================] - 1s 31ms/step - loss: 4.8604 - accuracy: 0.0927\n",
      "Epoch 7/100\n",
      "27/27 [==============================] - 1s 31ms/step - loss: 4.7157 - accuracy: 0.1112\n",
      "Epoch 8/100\n",
      "27/27 [==============================] - 1s 31ms/step - loss: 4.5245 - accuracy: 0.1205\n",
      "Epoch 9/100\n",
      "27/27 [==============================] - 1s 30ms/step - loss: 4.3148 - accuracy: 0.1564\n",
      "Epoch 10/100\n",
      "27/27 [==============================] - 1s 30ms/step - loss: 4.1115 - accuracy: 0.1773\n",
      "Epoch 11/100\n",
      "27/27 [==============================] - 1s 35ms/step - loss: 3.9017 - accuracy: 0.2225\n",
      "Epoch 12/100\n",
      "27/27 [==============================] - 1s 32ms/step - loss: 3.6900 - accuracy: 0.2352\n",
      "Epoch 13/100\n",
      "27/27 [==============================] - 1s 31ms/step - loss: 3.4795 - accuracy: 0.2584\n",
      "Epoch 14/100\n",
      "27/27 [==============================] - 1s 31ms/step - loss: 3.2776 - accuracy: 0.3024\n",
      "Epoch 15/100\n",
      "27/27 [==============================] - 1s 31ms/step - loss: 3.0847 - accuracy: 0.3291\n",
      "Epoch 16/100\n",
      "27/27 [==============================] - 1s 31ms/step - loss: 2.8959 - accuracy: 0.3754\n",
      "Epoch 17/100\n",
      "27/27 [==============================] - 1s 36ms/step - loss: 2.7174 - accuracy: 0.4056\n",
      "Epoch 18/100\n",
      "27/27 [==============================] - 1s 34ms/step - loss: 2.5608 - accuracy: 0.4403\n",
      "Epoch 19/100\n",
      "27/27 [==============================] - 1s 33ms/step - loss: 2.3972 - accuracy: 0.4693\n",
      "Epoch 20/100\n",
      "27/27 [==============================] - 1s 32ms/step - loss: 2.2450 - accuracy: 0.5064\n",
      "Epoch 21/100\n",
      "27/27 [==============================] - 1s 33ms/step - loss: 2.1004 - accuracy: 0.5411\n",
      "Epoch 22/100\n",
      "27/27 [==============================] - 1s 34ms/step - loss: 1.9722 - accuracy: 0.5782\n",
      "Epoch 23/100\n",
      "27/27 [==============================] - 1s 34ms/step - loss: 1.8450 - accuracy: 0.6246\n",
      "Epoch 24/100\n",
      "27/27 [==============================] - 1s 33ms/step - loss: 1.7328 - accuracy: 0.6385\n",
      "Epoch 25/100\n",
      "27/27 [==============================] - 1s 37ms/step - loss: 1.6216 - accuracy: 0.6767\n",
      "Epoch 26/100\n",
      "27/27 [==============================] - 1s 31ms/step - loss: 1.5198 - accuracy: 0.7068\n",
      "Epoch 27/100\n",
      "27/27 [==============================] - 1s 31ms/step - loss: 1.4241 - accuracy: 0.7149\n",
      "Epoch 28/100\n",
      "27/27 [==============================] - 1s 32ms/step - loss: 1.3356 - accuracy: 0.7509\n",
      "Epoch 29/100\n",
      "27/27 [==============================] - 1s 31ms/step - loss: 1.2610 - accuracy: 0.7683\n",
      "Epoch 30/100\n",
      "27/27 [==============================] - 1s 30ms/step - loss: 1.1814 - accuracy: 0.7879\n",
      "Epoch 31/100\n",
      "27/27 [==============================] - 1s 31ms/step - loss: 1.1011 - accuracy: 0.8088\n",
      "Epoch 32/100\n",
      "27/27 [==============================] - 1s 31ms/step - loss: 1.0344 - accuracy: 0.8297\n",
      "Epoch 33/100\n",
      "27/27 [==============================] - 1s 31ms/step - loss: 0.9748 - accuracy: 0.8401\n",
      "Epoch 34/100\n",
      "27/27 [==============================] - 1s 31ms/step - loss: 0.9209 - accuracy: 0.8494\n",
      "Epoch 35/100\n",
      "27/27 [==============================] - 1s 34ms/step - loss: 0.8675 - accuracy: 0.8598\n",
      "Epoch 36/100\n",
      "27/27 [==============================] - 1s 33ms/step - loss: 0.8195 - accuracy: 0.8795\n",
      "Epoch 37/100\n",
      "27/27 [==============================] - 1s 33ms/step - loss: 0.7707 - accuracy: 0.8841\n",
      "Epoch 38/100\n",
      "27/27 [==============================] - 1s 32ms/step - loss: 0.7289 - accuracy: 0.8969\n",
      "Epoch 39/100\n",
      "27/27 [==============================] - 1s 31ms/step - loss: 0.6874 - accuracy: 0.8980\n",
      "Epoch 40/100\n",
      "27/27 [==============================] - 1s 32ms/step - loss: 0.6529 - accuracy: 0.9061\n",
      "Epoch 41/100\n",
      "27/27 [==============================] - 1s 36ms/step - loss: 0.6163 - accuracy: 0.9015\n",
      "Epoch 42/100\n",
      "27/27 [==============================] - 1s 31ms/step - loss: 0.5854 - accuracy: 0.9143\n",
      "Epoch 43/100\n",
      "27/27 [==============================] - 1s 31ms/step - loss: 0.5571 - accuracy: 0.9108\n",
      "Epoch 44/100\n",
      "27/27 [==============================] - 1s 31ms/step - loss: 0.5276 - accuracy: 0.9189\n",
      "Epoch 45/100\n",
      "27/27 [==============================] - 1s 31ms/step - loss: 0.5034 - accuracy: 0.9224\n",
      "Epoch 46/100\n",
      "27/27 [==============================] - 1s 31ms/step - loss: 0.4798 - accuracy: 0.9282\n",
      "Epoch 47/100\n",
      "27/27 [==============================] - 1s 32ms/step - loss: 0.4580 - accuracy: 0.9340\n",
      "Epoch 48/100\n",
      "27/27 [==============================] - 1s 30ms/step - loss: 0.4385 - accuracy: 0.9363\n",
      "Epoch 49/100\n",
      "27/27 [==============================] - 1s 31ms/step - loss: 0.4199 - accuracy: 0.9351\n",
      "Epoch 50/100\n",
      "27/27 [==============================] - 1s 31ms/step - loss: 0.4022 - accuracy: 0.9386\n",
      "Epoch 51/100\n",
      "27/27 [==============================] - 1s 31ms/step - loss: 0.3873 - accuracy: 0.9421\n",
      "Epoch 52/100\n",
      "27/27 [==============================] - 1s 31ms/step - loss: 0.3701 - accuracy: 0.9386\n",
      "Epoch 53/100\n",
      "27/27 [==============================] - 1s 33ms/step - loss: 0.3563 - accuracy: 0.9409\n",
      "Epoch 54/100\n",
      "27/27 [==============================] - 1s 33ms/step - loss: 0.3435 - accuracy: 0.9409\n",
      "Epoch 55/100\n",
      "27/27 [==============================] - 1s 33ms/step - loss: 0.3311 - accuracy: 0.9432\n",
      "Epoch 56/100\n",
      "27/27 [==============================] - 1s 39ms/step - loss: 0.3200 - accuracy: 0.9421\n",
      "Epoch 57/100\n",
      "27/27 [==============================] - 1s 37ms/step - loss: 0.3103 - accuracy: 0.9444\n",
      "Epoch 58/100\n",
      "27/27 [==============================] - 1s 34ms/step - loss: 0.3007 - accuracy: 0.9467\n",
      "Epoch 59/100\n",
      "27/27 [==============================] - 1s 32ms/step - loss: 0.2896 - accuracy: 0.9444\n",
      "Epoch 60/100\n",
      "27/27 [==============================] - 1s 31ms/step - loss: 0.2814 - accuracy: 0.9467\n",
      "Epoch 61/100\n",
      "27/27 [==============================] - 1s 30ms/step - loss: 0.2720 - accuracy: 0.9490\n",
      "Epoch 62/100\n",
      "27/27 [==============================] - 1s 31ms/step - loss: 0.2636 - accuracy: 0.9490\n",
      "Epoch 63/100\n",
      "27/27 [==============================] - 1s 31ms/step - loss: 0.2555 - accuracy: 0.9455\n",
      "Epoch 64/100\n",
      "27/27 [==============================] - 1s 31ms/step - loss: 0.2515 - accuracy: 0.9490\n",
      "Epoch 65/100\n",
      "27/27 [==============================] - 1s 31ms/step - loss: 0.2453 - accuracy: 0.9479\n",
      "Epoch 66/100\n",
      "27/27 [==============================] - 1s 31ms/step - loss: 0.2369 - accuracy: 0.9444\n",
      "Epoch 67/100\n",
      "27/27 [==============================] - 1s 31ms/step - loss: 0.2317 - accuracy: 0.9455\n",
      "Epoch 68/100\n",
      "27/27 [==============================] - 1s 31ms/step - loss: 0.2267 - accuracy: 0.9479\n",
      "Epoch 69/100\n",
      "27/27 [==============================] - 1s 31ms/step - loss: 0.2208 - accuracy: 0.9455\n",
      "Epoch 70/100\n",
      "27/27 [==============================] - 1s 31ms/step - loss: 0.2182 - accuracy: 0.9467\n",
      "Epoch 71/100\n",
      "27/27 [==============================] - 1s 38ms/step - loss: 0.2116 - accuracy: 0.9467\n",
      "Epoch 72/100\n",
      "27/27 [==============================] - 1s 34ms/step - loss: 0.2073 - accuracy: 0.9455\n",
      "Epoch 73/100\n",
      "27/27 [==============================] - 1s 34ms/step - loss: 0.2021 - accuracy: 0.9444\n",
      "Epoch 74/100\n",
      "27/27 [==============================] - 1s 33ms/step - loss: 0.1998 - accuracy: 0.9479\n",
      "Epoch 75/100\n",
      "27/27 [==============================] - 1s 33ms/step - loss: 0.1945 - accuracy: 0.9455\n",
      "Epoch 76/100\n",
      "27/27 [==============================] - 1s 32ms/step - loss: 0.1913 - accuracy: 0.9455\n",
      "Epoch 77/100\n",
      "27/27 [==============================] - 1s 31ms/step - loss: 0.1894 - accuracy: 0.9444\n",
      "Epoch 78/100\n",
      "27/27 [==============================] - 1s 31ms/step - loss: 0.1868 - accuracy: 0.9467\n",
      "Epoch 79/100\n",
      "27/27 [==============================] - 1s 31ms/step - loss: 0.1836 - accuracy: 0.9432\n",
      "Epoch 80/100\n",
      "27/27 [==============================] - 1s 31ms/step - loss: 0.1795 - accuracy: 0.9455\n",
      "Epoch 81/100\n",
      "27/27 [==============================] - 1s 31ms/step - loss: 0.1768 - accuracy: 0.9432\n",
      "Epoch 82/100\n",
      "27/27 [==============================] - 1s 32ms/step - loss: 0.1760 - accuracy: 0.9432\n",
      "Epoch 83/100\n",
      "27/27 [==============================] - 1s 31ms/step - loss: 0.1702 - accuracy: 0.9479\n",
      "Epoch 84/100\n",
      "27/27 [==============================] - 1s 31ms/step - loss: 0.1682 - accuracy: 0.9467\n",
      "Epoch 85/100\n",
      "27/27 [==============================] - 1s 31ms/step - loss: 0.1658 - accuracy: 0.9455\n",
      "Epoch 86/100\n",
      "27/27 [==============================] - 1s 38ms/step - loss: 0.1654 - accuracy: 0.9444\n",
      "Epoch 87/100\n",
      "27/27 [==============================] - 1s 32ms/step - loss: 0.1631 - accuracy: 0.9467\n",
      "Epoch 88/100\n",
      "27/27 [==============================] - 1s 33ms/step - loss: 0.1617 - accuracy: 0.9444\n",
      "Epoch 89/100\n",
      "27/27 [==============================] - 1s 31ms/step - loss: 0.1604 - accuracy: 0.9444\n",
      "Epoch 90/100\n",
      "27/27 [==============================] - 1s 35ms/step - loss: 0.1574 - accuracy: 0.9432\n",
      "Epoch 91/100\n",
      "27/27 [==============================] - 1s 36ms/step - loss: 0.1564 - accuracy: 0.9397\n",
      "Epoch 92/100\n",
      "27/27 [==============================] - 1s 37ms/step - loss: 0.1533 - accuracy: 0.9479\n",
      "Epoch 93/100\n",
      "27/27 [==============================] - 1s 36ms/step - loss: 0.1524 - accuracy: 0.9479\n",
      "Epoch 94/100\n",
      "27/27 [==============================] - 1s 32ms/step - loss: 0.1508 - accuracy: 0.9432\n",
      "Epoch 95/100\n",
      "27/27 [==============================] - 1s 31ms/step - loss: 0.1487 - accuracy: 0.9455\n",
      "Epoch 96/100\n",
      "27/27 [==============================] - 1s 31ms/step - loss: 0.1466 - accuracy: 0.9490\n",
      "Epoch 97/100\n",
      "27/27 [==============================] - 1s 32ms/step - loss: 0.1463 - accuracy: 0.9455\n",
      "Epoch 98/100\n",
      "27/27 [==============================] - 1s 32ms/step - loss: 0.1452 - accuracy: 0.9444\n",
      "Epoch 99/100\n",
      "27/27 [==============================] - 1s 31ms/step - loss: 0.1456 - accuracy: 0.9397\n",
      "Epoch 100/100\n",
      "27/27 [==============================] - 1s 32ms/step - loss: 0.1422 - accuracy: 0.9490\n"
     ]
    }
   ],
   "source": [
    "hist=model.fit(x,y,epochs=100)"
   ]
  },
  {
   "cell_type": "code",
   "execution_count": 42,
   "id": "1ecf6160-a0fa-4d63-8366-e2df0d643783",
   "metadata": {},
   "outputs": [],
   "source": [
    "text=['mail']"
   ]
  },
  {
   "cell_type": "code",
   "execution_count": 43,
   "id": "0dedb2e6-6164-4ef3-bf50-78538bd90123",
   "metadata": {},
   "outputs": [],
   "source": [
    "input_text=pad_sequences(token.texts_to_sequences(text),maxlen=56)"
   ]
  },
  {
   "cell_type": "code",
   "execution_count": 44,
   "id": "43cd0ea9-710b-4697-afc6-0208053ece3d",
   "metadata": {},
   "outputs": [
    {
     "data": {
      "text/plain": [
       "array([[ 0,  0,  0,  0,  0,  0,  0,  0,  0,  0,  0,  0,  0,  0,  0,  0,\n",
       "         0,  0,  0,  0,  0,  0,  0,  0,  0,  0,  0,  0,  0,  0,  0,  0,\n",
       "         0,  0,  0,  0,  0,  0,  0,  0,  0,  0,  0,  0,  0,  0,  0,  0,\n",
       "         0,  0,  0,  0,  0,  0,  0, 92]])"
      ]
     },
     "execution_count": 44,
     "metadata": {},
     "output_type": "execute_result"
    }
   ],
   "source": [
    "input_text"
   ]
  },
  {
   "cell_type": "code",
   "execution_count": 46,
   "id": "65ae462f-5302-4c19-a2c4-063aea56d135",
   "metadata": {},
   "outputs": [
    {
     "name": "stdout",
     "output_type": "stream",
     "text": [
      "1/1 [==============================] - 0s 30ms/step\n"
     ]
    },
    {
     "data": {
      "text/plain": [
       "80"
      ]
     },
     "execution_count": 46,
     "metadata": {},
     "output_type": "execute_result"
    }
   ],
   "source": [
    "import numpy as np\n",
    "np.argmax(model.predict(input_text))"
   ]
  },
  {
   "cell_type": "code",
   "execution_count": 49,
   "id": "198ee707-2e4f-4fc7-9e94-28b6ebc3e8c9",
   "metadata": {},
   "outputs": [
    {
     "data": {
      "text/plain": [
       "['mail']"
      ]
     },
     "execution_count": 49,
     "metadata": {},
     "output_type": "execute_result"
    }
   ],
   "source": [
    "token.sequences_to_texts(input_text)"
   ]
  },
  {
   "cell_type": "code",
   "execution_count": 51,
   "id": "2a27d79c-5198-4736-808c-e08b27b347ff",
   "metadata": {},
   "outputs": [
    {
     "name": "stdout",
     "output_type": "stream",
     "text": [
      "once\n"
     ]
    }
   ],
   "source": [
    "for i in token.word_index:\n",
    "    if token.word_index[i]==80:\n",
    "        print(i)"
   ]
  },
  {
   "cell_type": "code",
   "execution_count": 56,
   "id": "49907141-20a9-4a18-a7a0-3a1b7774875e",
   "metadata": {},
   "outputs": [
    {
     "name": "stdout",
     "output_type": "stream",
     "text": [
      "mail\n",
      "1/1 [==============================] - 0s 28ms/step\n",
      "80\n",
      "mail once\n",
      "1/1 [==============================] - 0s 25ms/step\n",
      "20\n",
      "mail once the\n",
      "1/1 [==============================] - 0s 24ms/step\n",
      "37\n",
      "mail once the course\n",
      "1/1 [==============================] - 0s 23ms/step\n",
      "27\n",
      "mail once the course is\n",
      "1/1 [==============================] - 0s 24ms/step\n",
      "266\n",
      "mail once the course is over\n",
      "1/1 [==============================] - 0s 27ms/step\n",
      "49\n",
      "mail once the course is over and\n",
      "1/1 [==============================] - 0s 25ms/step\n",
      "23\n",
      "mail once the course is over and you\n",
      "1/1 [==============================] - 0s 127ms/step\n",
      "28\n",
      "mail once the course is over and you have\n",
      "1/1 [==============================] - 0s 25ms/step\n",
      "67\n",
      "mail once the course is over and you have paid\n",
      "1/1 [==============================] - 0s 26ms/step\n",
      "95\n"
     ]
    }
   ],
   "source": [
    "text='mail'\n",
    "for i in range(10):\n",
    "    print(text)\n",
    "    input_text=pad_sequences(token.texts_to_sequences([text]),maxlen=56)\n",
    "    x=np.argmax(model.predict(input_text))\n",
    "    print(x)\n",
    "    for i in token.word_index:\n",
    "        if token.word_index[i]==x:\n",
    "            text=text+' '+i\n",
    "    "
   ]
  },
  {
   "cell_type": "code",
   "execution_count": 61,
   "id": "52a440d9-e5cd-490f-a7fe-b12c97ad5c5d",
   "metadata": {},
   "outputs": [],
   "source": [
    "!start ."
   ]
  },
  {
   "cell_type": "code",
   "execution_count": null,
   "id": "f8d7096d-dfbd-4db0-b75c-1dd7027addf9",
   "metadata": {},
   "outputs": [],
   "source": []
  }
 ],
 "metadata": {
  "kernelspec": {
   "display_name": "Python 3 (ipykernel)",
   "language": "python",
   "name": "python3"
  },
  "language_info": {
   "codemirror_mode": {
    "name": "ipython",
    "version": 3
   },
   "file_extension": ".py",
   "mimetype": "text/x-python",
   "name": "python",
   "nbconvert_exporter": "python",
   "pygments_lexer": "ipython3",
   "version": "3.11.5"
  }
 },
 "nbformat": 4,
 "nbformat_minor": 5
}
